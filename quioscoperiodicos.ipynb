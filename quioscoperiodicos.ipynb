{
  "nbformat": 4,
  "nbformat_minor": 0,
  "metadata": {
    "colab": {
      "provenance": []
    },
    "kernelspec": {
      "name": "python3",
      "display_name": "Python 3"
    },
    "language_info": {
      "name": "python"
    }
  },
  "cells": [
    {
      "cell_type": "markdown",
      "source": [
        "Un quiosco vende periodico a 1.10 euros cada uno. Cada periodico le cuesta 0.90 euros.Las ventas de periodicos a partir de su experiencia se refleja en la tablas siguiente.\n",
        " \n",
        "|**periodico**|**30**|**40**|**50**|**60**|**70**|\n",
        "|-------------|------|------|------|------|------|\n",
        "|f(x)         | 20%  | 25%  | 25%  | 20%  | 10%  |\n",
        "\n",
        "Teniendo en cuenta el costo de 0.20 € por venta perdida y 0.10€ por el resiclaje de cada periodico no vendido determine el beneficio promedio diario si pide 50 periodicos cada dia.\n",
        "\n",
        "Por simulación: Construimos el modelo en varios pasos.\n",
        "\n",
        "**PASO 1**. Defina las variables que intervienen en el modelo.\n",
        "\n",
        "x= numero de periodicos vendidos\n",
        "\n",
        "**PASO 2**. Formule la distribución de probabilidad de cada variable.\n",
        "\n",
        "|**periodico**|**30**|**40**|**50**|**60**|**70**|\n",
        "|-------------|------|------|------|------|------|\n",
        "|f(x)         | 20%  | 25%  | 25%  | 20%  | 10%  |\n",
        "|f(x)         | 0.2  | 0.25 | 0.25 | 0.2  | 0.1  |\n",
        "\n",
        "**PASO 3**. Enumere la distribución acumulada de probabilidad de cada variable.\n",
        "\n",
        "|**periodico**|**30**|**40**|**50**|**60**|**70**|\n",
        "|-------------|------|------|------|------|------|\n",
        "|f(x)         | 20%  | 25%  | 25%  | 20%  | 10%  |\n",
        "|f(x)         | 0.2  | 0.25 | 0.25 | 0.2  | 0.1  |\n",
        "|F(x)         | 0.2  | 0.45 | 0.70 | 0.90 | 1    |\n",
        "\n",
        "**PASO 4**. Establezca el intervalo de números aleatorios correspondiente a cada valor de cada una de las variables.\n",
        "\n",
        "|**periodico**|**30**|**40**|**50**|**60**|**70**|\n",
        "|-------------|------|------|------|------|------|\n",
        "|f(x)         | 20%  | 25%  | 25%  | 20%  | 10%  |\n",
        "|f(x)         | 0.2  | 0.25 | 0.25 | 0.2  | 0.1  |\n",
        "|F(x)         | 0.2  | 0.45 | 0.70 | 0.90 | 1    |\n",
        "|Intervalos   |(0,0.2)|(0.2,0.45)|(0.45,0.7)|(0.7,0.9)|(0.9,1)|\n",
        "\n",
        "**PASO 5**. Genere números aleatorios.\n",
        "\n",
        "**PASO 6**. Simule las ventas de un dia y calcule el beneficio.\n",
        "\n",
        "|**Dia**|**numeros aleatorios**|**ventas simuladas**|**ventas reales**|**ventas perdidas**|**periodicos no vendidos**|**beneficio €**|**beneficio promedio €**|\n",
        "|-------|--------|-----|-----|-----|----|-----|----|\n",
        "|    1  |  0.23  | 40  | 40  |   0 | 10 | -2  | -2 |\n",
        "|    2  | 0.73   | 60  | 50  |   10| 0  |   8 |  3 | \n",
        "\n",
        "\n",
        "# Si ventas simuladas > pedido\n",
        "ventas reales = pedido\n",
        "\n",
        "ventas perdidas =ventas simuladas - pedido\n",
        "\n",
        "periodicos no vendidos = 0\n",
        "\n",
        "# Si ventas simuladas <= pedido\n",
        "ventas reales = ventas simuladas\n",
        "\n",
        "ventas perdidas = 0\n",
        "\n",
        "periodicos no vendidos = pedido - ventas reales\n",
        "\n",
        "Beneficio= (precio unitario de venta X ventas reales) - (coste unitario de adquisicion X pedido) - (coste unitario de reciclaje X periodico no vendido) - (coste de venta perdida X ventas perdidas)\n",
        "\n"
      ],
      "metadata": {
        "id": "91qOx4G80jeo"
      }
    },
    {
      "cell_type": "code",
      "execution_count": null,
      "metadata": {
        "id": "NQWFrIbc0Kx3"
      },
      "outputs": [],
      "source": [
        "import numpy as np\n",
        "import random as rnd\n",
        "import matplotlib.pyplot as plt\n",
        "from scipy.stats import norm"
      ]
    },
    {
      "cell_type": "code",
      "source": [
        "u=0\n",
        "x=0\n",
        "i=0\n",
        "ventreales=0\n",
        "ventperdidas=0\n",
        "novendidos=0"
      ],
      "metadata": {
        "id": "t-ojqFxnKazO"
      },
      "execution_count": null,
      "outputs": []
    },
    {
      "cell_type": "code",
      "source": [
        "## distribucion \n",
        "def ventassimuladas():\n",
        "  u=rnd.random()\n",
        "  if u <0.2:\n",
        "    x=30\n",
        "  elif u<0.45:\n",
        "    x=40\n",
        "  elif u<0.7:\n",
        "    x=50\n",
        "  elif u<0.9:\n",
        "    x=60\n",
        "  elif u<1:\n",
        "    x=70\n",
        "  return (x)"
      ],
      "metadata": {
        "id": "kvIXuPgpHU9N"
      },
      "execution_count": null,
      "outputs": []
    },
    {
      "cell_type": "code",
      "source": [
        "def beneficio(pedido): ## periodicos pedidos diariamente\n",
        "  i = ventassimuladas()\n",
        "  if i <= pedido :\n",
        "    ventreales= i\n",
        "    ventperdidas= 0\n",
        "    novendidos= pedido - ventreales \n",
        "  else :\n",
        "    ventreales= pedido\n",
        "    ventperdidas = i - pedido\n",
        "    novendidos=0\n",
        "  beneficio = (1.1*ventreales)-(0.9*pedido)-(0.1*novendidos)-(0.20*ventperdidas)\n",
        "  return beneficio \n"
      ],
      "metadata": {
        "id": "YZ8bl7WbL6ls"
      },
      "execution_count": null,
      "outputs": []
    },
    {
      "cell_type": "code",
      "source": [
        "print (beneficio(50))"
      ],
      "metadata": {
        "colab": {
          "base_uri": "https://localhost:8080/"
        },
        "id": "wrEBHiFgJKYE",
        "outputId": "b22eec7e-92db-4a83-e2ee-07a4aa87248e"
      },
      "execution_count": null,
      "outputs": [
        {
          "output_type": "stream",
          "name": "stdout",
          "text": [
            "8.000000000000007\n"
          ]
        }
      ]
    },
    {
      "cell_type": "code",
      "source": [
        "def benpromedio(iteraciones,pedido):\n",
        "    i=0\n",
        "    lista = []\n",
        "    while i <= iteraciones:\n",
        "        i += 1\n",
        "        probabilidad = beneficio(pedido)\n",
        "        lista.append(probabilidad)\n",
        "    return np.mean(lista)"
      ],
      "metadata": {
        "id": "oZYENwQqnhaR"
      },
      "execution_count": null,
      "outputs": []
    },
    {
      "cell_type": "code",
      "source": [
        "benpromedio(500,50)"
      ],
      "metadata": {
        "colab": {
          "base_uri": "https://localhost:8080/"
        },
        "id": "RzhSfIx-n6p0",
        "outputId": "91e6436e-44c4-4e0a-b9b9-e2517af587aa"
      },
      "execution_count": null,
      "outputs": [
        {
          "output_type": "execute_result",
          "data": {
            "text/plain": [
              "1.053892215568866"
            ]
          },
          "metadata": {},
          "execution_count": 10
        }
      ]
    },
    {
      "cell_type": "code",
      "source": [
        "def experimento(iteraciones,pedido):\n",
        "    i=0\n",
        "    lista = []\n",
        "    while i <= iteraciones:\n",
        "        i += 1\n",
        "        probabilidad = beneficio(pedido)/i\n",
        "        lista.append(probabilidad)\n",
        "    return lista"
      ],
      "metadata": {
        "id": "I_fFNB5ULUgU"
      },
      "execution_count": null,
      "outputs": []
    },
    {
      "cell_type": "markdown",
      "source": [
        "**PASO 7**. Obtenga la gráfica de estabilización que indica que el tamaño de muestra utilizado es suficiente para \n",
        "garantizar la convergencia del resultado."
      ],
      "metadata": {
        "id": "plauB0-fUegj"
      }
    },
    {
      "cell_type": "code",
      "source": [
        "exp = experimento(500,50)\n",
        "plt.plot(exp)\n",
        "plt.xlabel('iteraciones')\n",
        "plt.ylabel('p')\n",
        "plt.title('Beneficio promedio')\n",
        "plt.show()"
      ],
      "metadata": {
        "colab": {
          "base_uri": "https://localhost:8080/",
          "height": 472
        },
        "id": "2tCAhbiYSTpg",
        "outputId": "f913f51e-5f3c-4316-fece-4b9b5c82c085"
      },
      "execution_count": null,
      "outputs": [
        {
          "output_type": "display_data",
          "data": {
            "text/plain": [
              "<Figure size 640x480 with 1 Axes>"
            ],
            "image/png": "[encoded data removed]"
          },
          "metadata": {}
        }
      ]
    },
    {
      "cell_type": "markdown",
      "source": [
        "**PASO 8**. Replique el modelo."
      ],
      "metadata": {
        "id": "ePfjZA99Umei"
      }
    },
    {
      "cell_type": "code",
      "source": [
        "def replicarexperimento(repeticiones):\n",
        "    List = []\n",
        "    for i in range(repeticiones):\n",
        "        List.append(np.mean(benpromedio(500,50)))\n",
        "    return List"
      ],
      "metadata": {
        "id": "k_5LSyqfUWZq"
      },
      "execution_count": null,
      "outputs": []
    },
    {
      "cell_type": "code",
      "source": [
        "simulacion = replicarexperimento(100)\n",
        "plt.hist(simulacion)\n",
        "plt.xlabel('iteraciones')\n",
        "plt.ylabel('p')\n",
        "plt.title('Probabilidad')\n",
        "plt.show()\n"
      ],
      "metadata": {
        "colab": {
          "base_uri": "https://localhost:8080/",
          "height": 472
        },
        "id": "65iGZINpVuCX",
        "outputId": "ff4249d1-3347-4b9d-c681-8fd32d78287b"
      },
      "execution_count": null,
      "outputs": [
        {
          "output_type": "display_data",
          "data": {
            "text/plain": [
              "<Figure size 640x480 with 1 Axes>"
            ],
            "image/png": "[encoded data removed]"
          },
          "metadata": {}
        }
      ]
    },
    {
      "cell_type": "markdown",
      "source": [
        "**PASO 9**. Calcule el beneficio promedio y su desviación \n",
        "estándar."
      ],
      "metadata": {
        "id": "y3pIzVvGWQ9k"
      }
    },
    {
      "cell_type": "code",
      "source": [
        "np.mean(simulacion), np.var(simulacion), np.std(simulacion)"
      ],
      "metadata": {
        "colab": {
          "base_uri": "https://localhost:8080/"
        },
        "id": "Ags6iUu0WR6r",
        "outputId": "44a4e9d5-e8cd-4b80-d839-d25c82a52914"
      },
      "execution_count": null,
      "outputs": [
        {
          "output_type": "execute_result",
          "data": {
            "text/plain": [
              "(1.4079041916167703, 0.13698746379496504, 0.37011817544530967)"
            ]
          },
          "metadata": {},
          "execution_count": 15
        }
      ]
    },
    {
      "cell_type": "markdown",
      "source": [
        "**PASO 10**. Halle el intervalo de confianza del beneficio promedio con un nivel de confianza del $95 \\%$.\n"
      ],
      "metadata": {
        "id": "Rwp4EjzyXnpo"
      }
    },
    {
      "cell_type": "code",
      "source": [
        "# Cálculo del intervalo de confianza\n",
        "media = np.mean(simulacion)\n",
        "desviacion_estandar = np.std(simulacion, ddof=1)\n",
        "confianza = 0.95\n",
        "intervalo_confianza = norm.interval(confianza, loc=media, scale=desviacion_estandar / np.sqrt(len(simulacion)))\n",
        "\n",
        "# Imprimir intervalo de confianza\n",
        "print(\"Intervalo de confianza del 95%:\", intervalo_confianza)"
      ],
      "metadata": {
        "colab": {
          "base_uri": "https://localhost:8080/"
        },
        "id": "XoHz8ibnX1Ax",
        "outputId": "56fe9754-9564-4251-9f1a-07a038b5d414"
      },
      "execution_count": null,
      "outputs": [
        {
          "output_type": "stream",
          "name": "stdout",
          "text": [
            "Intervalo de confianza del 95%: (1.3349969098920915, 1.480811473341449)\n"
          ]
        }
      ]
    },
    {
      "cell_type": "markdown",
      "source": [
        "# Sensibilidad"
      ],
      "metadata": {
        "id": "Zk3aQMg-p54Y"
      }
    },
    {
      "cell_type": "code",
      "source": [
        "def maxi():#varia el nuemro de pedido desde 1 hasta 70 periodicos\n",
        "  sense=[]\n",
        "  i=30\n",
        "  for i in range (70):\n",
        "    sense.append(np.mean(benpromedio(500,i)))\n",
        "  maximo = max(sense)\n",
        "  indice_maximo = sense.index(maximo)\n",
        "  return (maximo,indice_maximo)\n"
      ],
      "metadata": {
        "id": "KyDo5_Lgp_e-"
      },
      "execution_count": null,
      "outputs": []
    },
    {
      "cell_type": "code",
      "source": [
        "maxi() ##resultados debmaxima ganacia y numero de pedido en el cual se da la maxima ganancia en un experimento, es decir varia el nuemro de pedido desde 1 hasta 70 "
      ],
      "metadata": {
        "colab": {
          "base_uri": "https://localhost:8080/"
        },
        "id": "slZws7_QyBsA",
        "outputId": "a90b4edf-44e5-4b9f-809c-fa398ffb5b00"
      },
      "execution_count": null,
      "outputs": [
        {
          "output_type": "execute_result",
          "data": {
            "text/plain": [
              "(3.6606786427145708, 40)"
            ]
          },
          "metadata": {},
          "execution_count": 18
        }
      ]
    },
    {
      "cell_type": "code",
      "source": [
        " list=[] ##resultados de ganacia y pedido en promedio\n",
        " lista2=[]\n",
        " for i in range (100):\n",
        "   res1,res2=maxi()\n",
        "   list.append (res1)\n",
        "   lista2.append(res2)\n",
        " print (np.mean(list),np.mean(lista2))"
      ],
      "metadata": {
        "colab": {
          "base_uri": "https://localhost:8080/"
        },
        "id": "7Xr1K6TA-_cr",
        "outputId": "33933d21-ee7f-48cc-bd28-7bf63cb00ed4"
      },
      "execution_count": null,
      "outputs": [
        {
          "output_type": "stream",
          "name": "stdout",
          "text": [
            "3.763009980039921 39.84\n"
          ]
        }
      ]
    },
    {
      "cell_type": "markdown",
      "source": [
        "El maximo se alcansa en pedir 40 periodicos por dia con una ganancia aproximada de  3.7€"
      ],
      "metadata": {
        "id": "zsHPJf5M-oK-"
      }
    }
  ]
}